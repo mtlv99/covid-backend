{
 "cells": [
  {
   "cell_type": "markdown",
   "id": "1ad81e9f",
   "metadata": {},
   "source": [
    "Generar las nuevas imágenes (Canny Edge y Filtro Bilateral)"
   ]
  },
  {
   "cell_type": "code",
   "execution_count": 11,
   "id": "c10c6341",
   "metadata": {},
   "outputs": [],
   "source": [
    "import cv2\n",
    "import os"
   ]
  },
  {
   "cell_type": "markdown",
   "id": "26cf0122",
   "metadata": {},
   "source": [
    "Direcciones(rutas)"
   ]
  },
  {
   "cell_type": "code",
   "execution_count": 12,
   "id": "2e3274f1",
   "metadata": {},
   "outputs": [],
   "source": [
    "input_folder = r\"Datos\\Originales\\Covid19-dataset\\train\"\n",
    "output_base = r\"Datos\\FiltrosA\""
   ]
  },
  {
   "cell_type": "markdown",
   "id": "0aba5dcc",
   "metadata": {},
   "source": [
    "Clases y estructura "
   ]
  },
  {
   "cell_type": "code",
   "execution_count": 13,
   "id": "2d30dd53",
   "metadata": {},
   "outputs": [],
   "source": [
    "clases = [\"Covid\", \"Normal\", \"Neumonia\"]\n",
    "\n",
    "for conjunto in [\"conjunto_raw\", \"conjunto_bilateral\", \"conjunto_canny\"]:\n",
    "    for clase in clases:\n",
    "        os.makedirs(os.path.join(output_base, conjunto, clase), exist_ok=True)"
   ]
  },
  {
   "cell_type": "markdown",
   "id": "49e50f36",
   "metadata": {},
   "source": [
    "Procesamiento"
   ]
  },
  {
   "cell_type": "code",
   "execution_count": 14,
   "id": "0f635982",
   "metadata": {},
   "outputs": [],
   "source": [
    "for clase in clases:\n",
    "    clase_input_path = os.path.join(input_folder, clase)\n",
    "    for filename in os.listdir(clase_input_path):\n",
    "        if filename.lower().endswith(('.png', '.jpg', '.jpeg')):\n",
    "            img_path = os.path.join(clase_input_path, filename)\n",
    "            img = cv2.imread(img_path)\n",
    "\n",
    "            #Imagen original\n",
    "            cv2.imwrite(os.path.join(output_base, \"conjunto_raw\", clase, filename), img)\n",
    "\n",
    "            #Filtro bilateral\n",
    "            bilateral = cv2.bilateralFilter(img, d=9, sigmaColor=75, sigmaSpace=75)\n",
    "            cv2.imwrite(os.path.join(output_base, \"conjunto_bilateral\", clase, filename), bilateral)\n",
    "\n",
    "            #Filtro Canny Edge\n",
    "            gray = cv2.cvtColor(img, cv2.COLOR_BGR2GRAY)\n",
    "            canny = cv2.Canny(gray, 100, 200)\n",
    "            cv2.imwrite(os.path.join(output_base, \"conjunto_canny\", clase, filename), canny)"
   ]
  }
 ],
 "metadata": {
  "kernelspec": {
   "display_name": "Python 3",
   "language": "python",
   "name": "python3"
  },
  "language_info": {
   "codemirror_mode": {
    "name": "ipython",
    "version": 3
   },
   "file_extension": ".py",
   "mimetype": "text/x-python",
   "name": "python",
   "nbconvert_exporter": "python",
   "pygments_lexer": "ipython3",
   "version": "3.12.8"
  }
 },
 "nbformat": 4,
 "nbformat_minor": 5
}
