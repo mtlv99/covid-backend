{
 "cells": [
  {
   "cell_type": "markdown",
   "id": "b543d7d4",
   "metadata": {},
   "source": [
    "Augmentation "
   ]
  },
  {
   "cell_type": "code",
   "execution_count": 2,
   "id": "d937ca62",
   "metadata": {},
   "outputs": [],
   "source": [
    "import cv2\n",
    "import os\n",
    "from tqdm import tqdm\n",
    "import numpy as np"
   ]
  },
  {
   "cell_type": "markdown",
   "id": "df02b309",
   "metadata": {},
   "source": [
    "Direcciones (rutas)"
   ]
  },
  {
   "cell_type": "code",
   "execution_count": 9,
   "id": "174025c4",
   "metadata": {},
   "outputs": [],
   "source": [
    "entrada = r'Datos\\FiltrosA'\n",
    "salida = r'Datos\\Augmented'"
   ]
  },
  {
   "cell_type": "markdown",
   "id": "22745a08",
   "metadata": {},
   "source": [
    "Conjuntos y clases"
   ]
  },
  {
   "cell_type": "code",
   "execution_count": 16,
   "id": "1fb3268e",
   "metadata": {},
   "outputs": [],
   "source": [
    "conjuntos = [\"conjunto_raw\", \"conjunto_bilateral\", \"conjunto_canny\"]\n",
    "clases = [\"Covid\", \"Normal\", \"Neumonia\"]"
   ]
  },
  {
   "cell_type": "markdown",
   "id": "1a9c02a4",
   "metadata": {},
   "source": [
    "Función de augmentación"
   ]
  },
  {
   "cell_type": "code",
   "execution_count": 13,
   "id": "2fbcd187",
   "metadata": {},
   "outputs": [],
   "source": [
    "def aumentar_imagen(img):\n",
    "    h, w = img.shape[:2]\n",
    "    augmentadas = []\n",
    "\n",
    "    # Rotaciones\n",
    "    for angulo in [15, -15]:\n",
    "        M = cv2.getRotationMatrix2D((w//2, h//2), angulo, 1)\n",
    "        rotada = cv2.warpAffine(img, M, (w, h))\n",
    "        augmentadas.append(rotada)\n",
    "\n",
    "    # Zoom + recorte central\n",
    "    zoom = cv2.resize(img, None, fx=1.2, fy=1.2)\n",
    "    zh, zw = zoom.shape[:2]\n",
    "    zoom_crop = zoom[(zh-h)//2:(zh-h-h)%2+h, (zw-w)//2:(zw-w-w)%2+w]\n",
    "    augmentadas.append(zoom_crop)\n",
    "\n",
    "    # Traslación\n",
    "    M_trans = np.float32([[1, 0, 10], [0, 1, 10]])\n",
    "    traslada = cv2.warpAffine(img, M_trans, (w, h))\n",
    "    augmentadas.append(traslada)\n",
    "\n",
    "    # Volteo horizontal\n",
    "    flip = cv2.flip(img, 1)\n",
    "    augmentadas.append(flip)\n",
    "\n",
    "    return augmentadas"
   ]
  },
  {
   "cell_type": "markdown",
   "id": "e9222b83",
   "metadata": {},
   "source": [
    "Contadores:"
   ]
  },
  {
   "cell_type": "code",
   "execution_count": 14,
   "id": "451b4e2a",
   "metadata": {},
   "outputs": [],
   "source": [
    "conteo_original = {}\n",
    "conteo_final = {}"
   ]
  },
  {
   "cell_type": "markdown",
   "id": "ea4ae81f",
   "metadata": {},
   "source": [
    "Proceso"
   ]
  },
  {
   "cell_type": "code",
   "execution_count": 17,
   "id": "5f994ca8",
   "metadata": {},
   "outputs": [
    {
     "name": "stderr",
     "output_type": "stream",
     "text": [
      "Procesando conjunto_raw/Covid: 100%|██████████| 111/111 [00:09<00:00, 11.43it/s]\n",
      "Procesando conjunto_raw/Normal: 100%|██████████| 70/70 [00:08<00:00,  8.50it/s]\n",
      "Procesando conjunto_raw/Neumonia: 100%|██████████| 70/70 [00:03<00:00, 20.07it/s]\n"
     ]
    },
    {
     "name": "stdout",
     "output_type": "stream",
     "text": [
      "\n",
      "Resumen del conjunto: conjunto_raw\n",
      "  - Covid: originales = 111, aumentadas = 666\n",
      "  - Normal: originales = 70, aumentadas = 420\n",
      "  - Neumonia: originales = 70, aumentadas = 420\n"
     ]
    },
    {
     "name": "stderr",
     "output_type": "stream",
     "text": [
      "Procesando conjunto_bilateral/Covid: 100%|██████████| 111/111 [00:08<00:00, 12.91it/s]\n",
      "Procesando conjunto_bilateral/Normal: 100%|██████████| 70/70 [00:07<00:00,  9.52it/s]\n",
      "Procesando conjunto_bilateral/Neumonia: 100%|██████████| 70/70 [00:03<00:00, 21.84it/s]\n"
     ]
    },
    {
     "name": "stdout",
     "output_type": "stream",
     "text": [
      "\n",
      "Resumen del conjunto: conjunto_bilateral\n",
      "  - Covid: originales = 111, aumentadas = 666\n",
      "  - Normal: originales = 70, aumentadas = 420\n",
      "  - Neumonia: originales = 70, aumentadas = 420\n"
     ]
    },
    {
     "name": "stderr",
     "output_type": "stream",
     "text": [
      "Procesando conjunto_canny/Covid: 100%|██████████| 111/111 [00:07<00:00, 15.40it/s]\n",
      "Procesando conjunto_canny/Normal: 100%|██████████| 70/70 [00:06<00:00, 11.28it/s]\n",
      "Procesando conjunto_canny/Neumonia: 100%|██████████| 70/70 [00:02<00:00, 24.47it/s]"
     ]
    },
    {
     "name": "stdout",
     "output_type": "stream",
     "text": [
      "\n",
      "Resumen del conjunto: conjunto_canny\n",
      "  - Covid: originales = 111, aumentadas = 666\n",
      "  - Normal: originales = 70, aumentadas = 420\n",
      "  - Neumonia: originales = 70, aumentadas = 420\n"
     ]
    },
    {
     "name": "stderr",
     "output_type": "stream",
     "text": [
      "\n"
     ]
    }
   ],
   "source": [
    "for conjunto in conjuntos:\n",
    "    conteo_original = {}\n",
    "    conteo_final = {}\n",
    "\n",
    "    for clase in clases:\n",
    "        carpeta_entrada = os.path.join(entrada, conjunto, clase)\n",
    "        carpeta_salida = os.path.join(salida, conjunto, clase)\n",
    "        os.makedirs(carpeta_salida, exist_ok=True)\n",
    "\n",
    "        imagenes = [f for f in os.listdir(carpeta_entrada) if f.endswith(('.png', '.jpg', '.jpeg'))]\n",
    "        conteo_original[clase] = len(imagenes)\n",
    "\n",
    "        for nombre_img in tqdm(imagenes, desc=f'Procesando {conjunto}/{clase}'):\n",
    "            ruta_img = os.path.join(carpeta_entrada, nombre_img)\n",
    "            img = cv2.imread(ruta_img)\n",
    "\n",
    "            if img is None:\n",
    "                print(f\"Error leyendo imagen: {ruta_img}\")\n",
    "                continue\n",
    "\n",
    "            base_name = os.path.splitext(nombre_img)[0]\n",
    "            cv2.imwrite(os.path.join(carpeta_salida, f'{base_name}_orig.jpg'), img)\n",
    "\n",
    "            augmentadas = aumentar_imagen(img)\n",
    "            for i, aug_img in enumerate(augmentadas):\n",
    "                cv2.imwrite(os.path.join(carpeta_salida, f'{base_name}_aug{i+1}.jpg'), aug_img)\n",
    "\n",
    "        conteo_final[clase] = conteo_original[clase] * 6  # original + 5 augmentadas\n",
    "\n",
    "    # Mostrar conteo por conjunto\n",
    "    print(f\"\\nResumen del conjunto: {conjunto}\")\n",
    "    for clase in clases:\n",
    "        print(f\"  - {clase}: originales = {conteo_original[clase]}, aumentadas = {conteo_final[clase]}\")"
   ]
  }
 ],
 "metadata": {
  "kernelspec": {
   "display_name": "Python 3",
   "language": "python",
   "name": "python3"
  },
  "language_info": {
   "codemirror_mode": {
    "name": "ipython",
    "version": 3
   },
   "file_extension": ".py",
   "mimetype": "text/x-python",
   "name": "python",
   "nbconvert_exporter": "python",
   "pygments_lexer": "ipython3",
   "version": "3.12.8"
  }
 },
 "nbformat": 4,
 "nbformat_minor": 5
}
